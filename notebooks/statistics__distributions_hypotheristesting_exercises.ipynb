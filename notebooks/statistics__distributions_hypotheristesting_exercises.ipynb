{
 "cells": [
  {
   "cell_type": "code",
   "execution_count": 1,
   "id": "a89fa01c-e66c-42ac-9295-08bff83701de",
   "metadata": {},
   "outputs": [],
   "source": [
    "from scipy import stats\n",
    "import matplotlib.pyplot as plt\n",
    "import numpy as np"
   ]
  },
  {
   "cell_type": "code",
   "execution_count": 2,
   "id": "40e2e0e8-c076-4aa2-b3d3-aa64e8b15d32",
   "metadata": {},
   "outputs": [],
   "source": [
    "mu = 4\n",
    "sigma2 = 3\n",
    "N = 10000\n",
    "\n",
    "np.random.seed(42)"
   ]
  },
  {
   "cell_type": "code",
   "execution_count": 3,
   "id": "6c163bc4-963a-4c4d-adea-fff4b3f4fa4d",
   "metadata": {},
   "outputs": [
    {
     "data": {
      "image/png": "[encoded data removed]",
      "text/plain": [
       "<Figure size 432x288 with 1 Axes>"
      ]
     },
     "metadata": {
      "needs_background": "light"
     },
     "output_type": "display_data"
    }
   ],
   "source": [
    "norm = stats.norm(loc=mu, scale=np.sqrt(sigma2))\n",
    "\n",
    "data = norm.rvs(size=N)\n",
    "plt.hist(data, bins=20, edgecolor='w');"
   ]
  },
  {
   "cell_type": "code",
   "execution_count": 4,
   "id": "e2b88674-58da-4c6b-b1c5-1b79d761ba0f",
   "metadata": {},
   "outputs": [
    {
     "name": "stdout",
     "output_type": "stream",
     "text": [
      "(3.996300368281764, 1.7379609219519137)\n"
     ]
    }
   ],
   "source": [
    "fitPars = stats.norm.fit(data)\n",
    "print(fitPars)"
   ]
  },
  {
   "cell_type": "code",
   "execution_count": 5,
   "id": "b7e38c95-5062-4c26-a234-4828b11e47f8",
   "metadata": {},
   "outputs": [
    {
     "data": {
      "image/png": "[encoded data removed]",
      "text/plain": [
       "<Figure size 576x216 with 1 Axes>"
      ]
     },
     "metadata": {
      "needs_background": "light"
     },
     "output_type": "display_data"
    }
   ],
   "source": [
    "fittedNorm = stats.norm(loc=fitPars[0], scale=fitPars[1])\n",
    "\n",
    "x = np.linspace(-2, 10, N)\n",
    "y = fittedNorm.pdf(x) # Calculate the corresponding PDF\n",
    "\n",
    "plt.figure(figsize=(8,3))\n",
    "plt.hist(data, bins=100, density=True, edgecolor='w')\n",
    "plt.plot(x, y)\n",
    "plt.show()"
   ]
  },
  {
   "cell_type": "markdown",
   "id": "b5eb4e0c-8b74-4bf2-bf05-7b6f3cbd98d8",
   "metadata": {},
   "source": [
    "# Lab 1\n",
    "* Estimators\n",
    "    + Point Estimators\n",
    "    * Confidence Intervals\n",
    "* Hypothesis Testing\n"
   ]
  },
  {
   "cell_type": "markdown",
   "id": "1d21f1fe-385d-4fb1-8dfc-88e81937253e",
   "metadata": {
    "tags": []
   },
   "source": [
    "## Estimators\n",
    "Let $X_1, X_2, \\dots ,X_N$, $N=1000$, independent r.v. drawn from $N(\\mu, 7.5)$. Consider the estimator $\\hat{\\mu} = \\bar{X}=\\sum_{i=1}^{N}{X_i}$.\n",
    "1. Compute a point estimate of $\\mu$\n",
    "2. Compute a confidence interval for $\\mu$ of level $1-\\alpha$, with $\\alpha=0.05$\n",
    "3. Test the hypothesis $H_0:\\mu=15$ against the two-sided alternative hypothesis $H_1:\\mu\\neq 15$ at level $95\\%$\n",
    "4. **BONUS**: Repeat the above procedure a number of times equal to $B=1000$, and check the distribution of the estimator $\\bar{X}$\n",
    "5. **BONUS**: Repeat point 4 with $X_i \\sim Bin(30, 0.5)$"
   ]
  },
  {
   "cell_type": "code",
   "execution_count": 6,
   "id": "22803ca0-e9c5-4b30-bea1-0d6afc7b73c0",
   "metadata": {},
   "outputs": [],
   "source": [
    "mu = 15\n",
    "sigma2 = 7.5\n",
    "N = 1000\n",
    "np.random.seed(42)\n",
    "\n",
    "# creating a frozen distribution:\n",
    "norm = stats.norm(loc=mu, scale=np.sqrt(sigma2))\n",
    "# sampling from the distribution:\n",
    "data = norm.rvs(N)"
   ]
  },
  {
   "cell_type": "code",
   "execution_count": 7,
   "id": "aefc8e39-1173-4bfa-ae27-80b3dcdece3a",
   "metadata": {},
   "outputs": [
    {
     "data": {
      "image/png": "[encoded data removed]",
      "text/plain": [
       "<Figure size 432x288 with 1 Axes>"
      ]
     },
     "metadata": {
      "needs_background": "light"
     },
     "output_type": "display_data"
    }
   ],
   "source": [
    "plt.hist(data, bins=30, ec='w')\n",
    "plt.show()"
   ]
  },
  {
   "cell_type": "markdown",
   "id": "a36dc346-4fe3-4dfa-a736-317505cbb027",
   "metadata": {},
   "source": [
    "1. Compute a point estimate for $\\mu$"
   ]
  },
  {
   "cell_type": "code",
   "execution_count": 8,
   "id": "412ee899",
   "metadata": {},
   "outputs": [
    {
     "data": {
      "text/plain": [
       "15.052943015284184"
      ]
     },
     "execution_count": 8,
     "metadata": {},
     "output_type": "execute_result"
    }
   ],
   "source": [
    "np.mean(data)"
   ]
  },
  {
   "cell_type": "markdown",
   "id": "e984e44e",
   "metadata": {},
   "source": [
    "The same result can be obtained by applying the `fit` method:"
   ]
  },
  {
   "cell_type": "code",
   "execution_count": 13,
   "id": "daa4aa00",
   "metadata": {},
   "outputs": [
    {
     "data": {
      "text/plain": [
       "15.052943015284184"
      ]
     },
     "execution_count": 13,
     "metadata": {},
     "output_type": "execute_result"
    }
   ],
   "source": [
    "mu_hat, var_hat = stats.norm.fit(data)\n",
    "mu_hat"
   ]
  },
  {
   "cell_type": "markdown",
   "id": "8a49dea4-9eb0-4f96-9f02-f7741e3f43df",
   "metadata": {},
   "source": [
    "2. Compute a confidence interval for $\\mu$\n",
    "\n",
    "We know $\\bar{X} \\sim N(\\mu, \\sigma^2/N)$, so a confidence interval with $\\alpha=0.05$ is given by $\\bar{X} \\pm z_{1-\\alpha/2} \\frac{\\sigma}{\\sqrt{N}}$"
   ]
  },
  {
   "cell_type": "code",
   "execution_count": 14,
   "id": "53ebcaac-31aa-402c-b62d-b370c862f52d",
   "metadata": {},
   "outputs": [
    {
     "data": {
      "text/plain": [
       "(14.881213431344355, 15.224672599224013)"
      ]
     },
     "execution_count": 14,
     "metadata": {},
     "output_type": "execute_result"
    }
   ],
   "source": [
    "alpha = 0.05\n",
    "\n",
    "conf_interval = stats.norm.interval(alpha, loc=mu_hat, scale=np.sqrt(sigma2))\n",
    "conf_interval"
   ]
  },
  {
   "cell_type": "code",
   "execution_count": 15,
   "id": "e31d6ed2-c765-45cc-8a28-dc167e855831",
   "metadata": {},
   "outputs": [],
   "source": [
    "def draw_pdf(frozen_dist, figsize=(10, 5), eps=1e-4, interval=None):\n",
    "    x = np.linspace(frozen_dist.ppf(eps), frozen_dist.ppf(1-eps), 1000)\n",
    "    # Calculate the corresponding PDF\n",
    "    y = frozen_dist.pdf(x) \n",
    "    fig, ax = plt.subplots(1, 1, figsize=figsize)\n",
    "    ax.plot(x, y)\n",
    "    if interval:\n",
    "        lowl, uppl = interval\n",
    "        ax.vlines(lowl, ymin=0, ymax=frozen_dist.pdf(lowl))\n",
    "        ax.vlines(uppl, ymin=0, ymax=frozen_dist.pdf(uppl))\n",
    "        ax.fill_between(x, [0]*len(y), y, where=[(i > lowl) & (i < uppl) for i in x], alpha=0.3)\n",
    "    return ax"
   ]
  },
  {
   "cell_type": "code",
   "execution_count": 16,
   "id": "9bc65428-225b-4068-bef5-e5fc7f3ffdf2",
   "metadata": {},
   "outputs": [
    {
     "data": {
      "image/png": "[encoded data removed]",
      "text/plain": [
       "<Figure size 720x360 with 1 Axes>"
      ]
     },
     "metadata": {
      "needs_background": "light"
     },
     "output_type": "display_data"
    }
   ],
   "source": [
    "sample_mean_dist = stats.norm(loc=mu_hat, scale=np.sqrt(sigma2/N))\n",
    "\n",
    "ax = draw_pdf(frozen_dist=sample_mean_dist, interval=conf_interval)"
   ]
  },
  {
   "cell_type": "markdown",
   "id": "6da69b46",
   "metadata": {},
   "source": [
    "We can obtain the same result by applying directly the formula:"
   ]
  },
  {
   "cell_type": "code",
   "execution_count": 17,
   "id": "2b7bdaea-3609-4cfb-958d-55db2ee3cf09",
   "metadata": {},
   "outputs": [
    {
     "data": {
      "text/plain": [
       "(14.88, 15.22)"
      ]
     },
     "execution_count": 17,
     "metadata": {},
     "output_type": "execute_result"
    }
   ],
   "source": [
    "interval_width = stats.norm.ppf(1-alpha/2) * np.sqrt(sigma2/N)\n",
    "np.round(mu_hat - interval_width, 2), np.round(mu_hat + interval_width, 2)"
   ]
  },
  {
   "cell_type": "markdown",
   "id": "b5880630-79c1-4830-8546-3adab6efa424",
   "metadata": {},
   "source": [
    "3. Test the hypothesis\n",
    "$$\n",
    "\\left\\{\n",
    "    \\begin{array}\\\\\n",
    "        H_0:\\mu=15 \\\\\n",
    "        H_1:\\mu\\neq 15\n",
    "    \\end{array}\n",
    "\\right.\n",
    "$$\n",
    "\n",
    "That's a **two-sided composite** alternative hypothesis, so we reject $H_0$ for both big and small number of the test statistic $Z = \\frac{\\bar{X}-\\mu}{\\sigma/\\sqrt{N}}$"
   ]
  },
  {
   "cell_type": "code",
   "execution_count": 18,
   "id": "35891165-a872-4af5-b1c7-fcf4c0811aa8",
   "metadata": {},
   "outputs": [
    {
     "name": "stdout",
     "output_type": "stream",
     "text": [
      "z_oss=0.6110275394245253, two-sided p_value=0.5411813486797858\n"
     ]
    }
   ],
   "source": [
    "mu0 = 15\n",
    "\n",
    "z_oss = (mu_hat - mu0) / np.sqrt(sigma2 / (N-1))\n",
    "p_value = (1-stats.norm.cdf(z_oss))*2\n",
    "print(f\"{z_oss=}, two-sided {p_value=}\")"
   ]
  },
  {
   "cell_type": "markdown",
   "id": "c009b049-3668-449a-b8b7-4f0ab995da14",
   "metadata": {},
   "source": [
    "In real world scenarios the variance is unknown and needs to be estimated with the sample variance $S^2 = \\frac{1}{N}\\sum_{i=1}^N (X_i-\\bar{\\mu})^2$.  \n",
    "If we replace $\\sigma^2$ with its estimate $S^2$, the statistic follow a Student-t distribution:  \n",
    "$T = \\frac{\\bar{X}-\\mu}{S/\\sqrt{N}}\\sim t_\\nu$ with degrees of freedom $\\nu=N-1$"
   ]
  },
  {
   "cell_type": "code",
   "execution_count": 16,
   "id": "8b9f1a9a-3516-4751-94f3-66609cc61610",
   "metadata": {},
   "outputs": [
    {
     "name": "stdout",
     "output_type": "stream",
     "text": [
      "t_oss=0.6243089585093181, two-sided p_value=0.532567243662303\n"
     ]
    }
   ],
   "source": [
    "t_oss = (mu_hat - mu0) / np.sqrt(np.var(data) / (N-1))\n",
    "p_value = (1-stats.t.cdf(t_oss, df=N-1))*2\n",
    "print(f\"{t_oss=}, two-sided {p_value=}\")"
   ]
  },
  {
   "cell_type": "markdown",
   "id": "cfcca5ad",
   "metadata": {},
   "source": [
    "`scipy.stats` module provides automatic methods for the most common test procedures:"
   ]
  },
  {
   "cell_type": "code",
   "execution_count": 19,
   "id": "6785ec52-3f72-473c-ac01-06183d3a2ef2",
   "metadata": {},
   "outputs": [
    {
     "data": {
      "text/plain": [
       "Ttest_1sampResult(statistic=0.6243089585093181, pvalue=0.5325672436623032)"
      ]
     },
     "execution_count": 19,
     "metadata": {},
     "output_type": "execute_result"
    }
   ],
   "source": [
    "stats.ttest_1samp(data, popmean=mu0)"
   ]
  },
  {
   "cell_type": "markdown",
   "id": "e6715a1e-6e5e-4a4b-a005-5cfe6ecc6df9",
   "metadata": {},
   "source": [
    "4. **BONUS**: Repeat the above procedure a number of times equal to $B=1000$, and check the distribution of the estimator $\\bar{X}$\n"
   ]
  },
  {
   "cell_type": "markdown",
   "id": "76f73f8b",
   "metadata": {},
   "source": [
    "For each repetition of the experiment (steps 1-3 above) we store the values of the sample mean, of the $p$-value, and the confidence intervals:"
   ]
  },
  {
   "cell_type": "code",
   "execution_count": 21,
   "id": "d4cf131a-1ddc-4b6d-bc51-a8c853c32506",
   "metadata": {},
   "outputs": [],
   "source": [
    "B = 10000\n",
    "mu_hats = []\n",
    "conf_intervals = []\n",
    "p_values = []\n",
    "for i in range(B):\n",
    "    \n",
    "    # Generate a random sample\n",
    "    data = norm.rvs(N)\n",
    "    \n",
    "    # Compute point estimate\n",
    "    mu_hat = np.mean(data)\n",
    "    \n",
    "    # Compute confidence interval\n",
    "    interval_width = stats.norm.ppf(1-alpha/2) * np.sqrt(sigma2/N)\n",
    "    conf_interval = mu_hat - interval_width, mu_hat + interval_width\n",
    "    \n",
    "    # Compute p-values\n",
    "    z_oss = (mu_hat - mu0) / np.sqrt(sigma2 / (N-1))\n",
    "    p_value = (1 - stats.norm.cdf(np.abs(z_oss)))*2\n",
    "    \n",
    "    # Save quantities \n",
    "    mu_hats.append(mu_hat)\n",
    "    conf_intervals.append(conf_interval)\n",
    "    p_values.append(p_value)"
   ]
  },
  {
   "cell_type": "markdown",
   "id": "9b19ce1b",
   "metadata": {},
   "source": [
    "We now plot the sampling distribution of the mean, and compare it with the theoretical value:"
   ]
  },
  {
   "cell_type": "code",
   "execution_count": 18,
   "id": "cc451b1d-8476-45f6-a291-ea651eb84f56",
   "metadata": {},
   "outputs": [
    {
     "data": {
      "image/png": "[encoded data removed]",
      "text/plain": [
       "<Figure size 720x360 with 1 Axes>"
      ]
     },
     "metadata": {
      "needs_background": "light"
     },
     "output_type": "display_data"
    }
   ],
   "source": [
    "fig, ax = plt.subplots(1, 1, figsize=(10, 5))\n",
    "ax.hist(mu_hats, ec='w', bins=20, density=True)\n",
    "x = np.linspace(14.7, 15.3, num=100)\n",
    "y_emp = stats.norm.pdf(x, loc=np.mean(mu_hats), scale=np.std(mu_hats))\n",
    "y_theo = stats.norm.pdf(x, loc=mu, scale=np.sqrt(sigma2/N))\n",
    "ax.plot(x, y_emp, label='Empirical', color='green')\n",
    "ax.plot(x, y_theo, label='Theorical', color='red')\n",
    "ax.legend();"
   ]
  },
  {
   "cell_type": "markdown",
   "id": "aa256d7d-31ca-487e-be45-ffc1fea032f6",
   "metadata": {},
   "source": [
    "Intervals of confidence level $95\\%$: we expect those intervals to contain the true value of $\\mu$ in $95\\%$ of the cases."
   ]
  },
  {
   "cell_type": "code",
   "execution_count": 22,
   "id": "2dfab263-4e55-46d3-a2cb-4ee7409c68ca",
   "metadata": {},
   "outputs": [
    {
     "data": {
      "text/plain": [
       "0.9473"
      ]
     },
     "execution_count": 22,
     "metadata": {},
     "output_type": "execute_result"
    }
   ],
   "source": [
    "counts = 0\n",
    "for low, upp in conf_intervals:\n",
    "    if (low < mu) & (mu < upp):\n",
    "        counts+=1\n",
    "counts/B"
   ]
  },
  {
   "cell_type": "markdown",
   "id": "e57ad119",
   "metadata": {},
   "source": [
    "<span style=\"color:red\">NOTE CARLO</span>: <br>\n",
    "io rifarei con B = 50 e plotterei cosi: \n",
    "https://statisticsbyjim.com/hypothesis-testing/confidence-interval/"
   ]
  },
  {
   "cell_type": "markdown",
   "id": "f7e8968d-5159-4814-8f28-f8d7a599967c",
   "metadata": {},
   "source": [
    "Hypothesis testing with significativity level $95\\%$: we expect those test to make type I error only in $5%$ of the cases.  \n",
    "Remember: type I error is when we reject the null hypothesis when in reality it's correct"
   ]
  },
  {
   "cell_type": "code",
   "execution_count": 20,
   "id": "ff313539-5ac1-402e-9146-094457fbffa3",
   "metadata": {},
   "outputs": [
    {
     "data": {
      "text/plain": [
       "0.0435"
      ]
     },
     "execution_count": 20,
     "metadata": {},
     "output_type": "execute_result"
    }
   ],
   "source": [
    "counts = 0\n",
    "for p_val in p_values:\n",
    "    if p_val < alpha:\n",
    "        counts+=1\n",
    "counts/B"
   ]
  },
  {
   "cell_type": "markdown",
   "id": "98cf5f5e-df57-4789-a2b6-493a4f56de25",
   "metadata": {},
   "source": [
    "5. Repeat with $X\\sim Bernoulli(p), p=0.5$"
   ]
  },
  {
   "cell_type": "code",
   "execution_count": 24,
   "id": "693b1179-02b8-4a4d-b999-4fb81188ed60",
   "metadata": {},
   "outputs": [],
   "source": [
    "B = 10000\n",
    "p = 0.5\n",
    "bern = stats.bernoulli(p=p)\n",
    "sigma2_bern = p * (1-p)\n",
    "\n",
    "\n",
    "p_hats = []\n",
    "conf_intervals = []\n",
    "p_values = []\n",
    "z_osss = []\n",
    "for i in range(B):\n",
    "    \n",
    "    # Generate a random sample\n",
    "    data = bern.rvs(N)\n",
    "    \n",
    "    # Compute point estimate\n",
    "    p_hat = np.mean(data)\n",
    "    \n",
    "    # Compute confidence interval\n",
    "    interval_width = stats.norm.ppf(1-alpha/2) * np.sqrt(sigma2_bern/N)\n",
    "    conf_interval = (np.mean(data) - interval_width), (np.mean(data) + interval_width)\n",
    "    \n",
    "    # Compute p-values\n",
    "    z_oss = (np.mean(data) - p) / np.sqrt(sigma2_bern / (N-1))\n",
    "    p_value = (1 - stats.norm.cdf(np.abs(z_oss)))*2\n",
    "    \n",
    "    # Save quantities \n",
    "    p_hats.append(p_hat)\n",
    "    conf_intervals.append(conf_interval)\n",
    "    p_values.append(p_value)\n",
    "    z_osss.append(z_oss)"
   ]
  },
  {
   "cell_type": "code",
   "execution_count": 25,
   "id": "ce8e310b-726d-4982-9069-9f382172e8ce",
   "metadata": {},
   "outputs": [
    {
     "data": {
      "image/png": "[encoded data removed]",
      "text/plain": [
       "<Figure size 432x288 with 1 Axes>"
      ]
     },
     "metadata": {
      "needs_background": "light"
     },
     "output_type": "display_data"
    }
   ],
   "source": [
    "fig, ax = plt.subplots(1, 1)\n",
    "ax.hist(p_hats, ec='w', bins=20, density=True)\n",
    "x = np.linspace(0.45, 0.55, num=100)\n",
    "y = stats.norm.pdf(x, loc=0.5, scale=np.sqrt(0.25/N))\n",
    "ax.plot(x, y, label='N(p, p(1-p)/N)')\n",
    "ax.legend();"
   ]
  },
  {
   "cell_type": "markdown",
   "id": "1b7b5a2f-8d35-40a7-8608-1fc4b03d99d8",
   "metadata": {},
   "source": [
    "**Why does the distribution of $\\hat{p}$ look normal?**"
   ]
  },
  {
   "cell_type": "code",
   "execution_count": 23,
   "id": "dce8748f-f8e3-4b8e-a98f-5c622117d960",
   "metadata": {},
   "outputs": [
    {
     "data": {
      "text/plain": [
       "0.9466"
      ]
     },
     "execution_count": 23,
     "metadata": {},
     "output_type": "execute_result"
    }
   ],
   "source": [
    "counts = 0\n",
    "for low, upp in conf_intervals:\n",
    "    if (low < p) & (p < upp):\n",
    "        counts+=1\n",
    "counts/B"
   ]
  },
  {
   "cell_type": "code",
   "execution_count": 24,
   "id": "b6984597-bdbd-4310-9b8a-377e90a579b8",
   "metadata": {},
   "outputs": [
    {
     "data": {
      "text/plain": [
       "0.0461"
      ]
     },
     "execution_count": 24,
     "metadata": {},
     "output_type": "execute_result"
    }
   ],
   "source": [
    "counts = 0\n",
    "for p_val in p_values:\n",
    "    if p_val < alpha:\n",
    "        counts+=1\n",
    "counts/B"
   ]
  },
  {
   "cell_type": "markdown",
   "id": "6ab78c9a",
   "metadata": {},
   "source": [
    "<span style=\"color:red\">NOTE CARLO: inserire un paio di esempi concreti di test delle ipotesi sulla media, utilizzando t-distribution. E.g. esercizio 9.7 pag 381 libro statistica per economisti</span>\n"
   ]
  },
  {
   "cell_type": "markdown",
   "id": "dca0f99e-22a6-4f7d-82a9-b82aa551a735",
   "metadata": {},
   "source": [
    "## Chi-squared tests\n",
    "### One-way Chi-Squared test\n",
    "Assume you have a frequency table, and you want to test if the frequencies are random or if they follow some pattern. <br>\n",
    "\n",
    "**Example** <br>\n",
    "You've sold $N=33$ shirts of different colors, and from the sales data you want to understand if clients prefers some color over the others. You collect your data and have this frequency table:\n",
    "\n",
    "| White      | Black | Blue | Green | Cyan | Lime | \n",
    "| ----------- | ----------- |----------- |----------- |----------- |----------- |\n",
    "| 10      | 6 | 5 | 4|5|3|\n",
    "\n",
    "It seems like people do have a preference for white shirts. But is it _statistically significant_?\n",
    "\n",
    "One may expect that, on $N=33$ shirts of 6 colors, the mean number of shirts sold for each color would be 33/6 = 5.5.\n",
    "What's the likelihood that this distribution came up by chance?"
   ]
  },
  {
   "cell_type": "code",
   "execution_count": 25,
   "id": "bc6b3686-b9ee-47d9-a358-29ad421c8e24",
   "metadata": {},
   "outputs": [
    {
     "name": "stdout",
     "output_type": "stream",
     "text": [
      "0.37313038594870584\n"
     ]
    }
   ],
   "source": [
    "data = [10, 6, 5, 4, 5, 3]\n",
    "V, p = stats.chisquare(data) \n",
    "print(p)"
   ]
  },
  {
   "cell_type": "markdown",
   "id": "7c016155",
   "metadata": {},
   "source": [
    "<span style=\"color:red\">NOTE CARLO: <br>\n",
    "* bisogna stabilire a monte il livello di confidenza: il criterio va stabilito a monte!!!\n",
    "* traiamo le conseguenze\n",
    "</span>"
   ]
  },
  {
   "cell_type": "markdown",
   "id": "4e9f49e3-813f-4696-b63a-fee5e2b50e06",
   "metadata": {
    "tags": []
   },
   "source": [
    "# Two-way Chi-Squared test\n",
    "\n",
    "<span style=\"color:red\">NOTE CARLO: introdurre problema</span>\n",
    "\n",
    "|| Male      | Female | Total |\n",
    "|---| ----------- | ----------- | ------|\n",
    "|Blonde| 84      | 102 | 186|\n",
    "|Brunette| 161      | 119 | 280\n",
    "|Total| 245 |221|466|\n",
    "\n",
    "Is the color of hair related to the gender?  \n",
    "\n",
    "$H_0$: variables are independent  \n",
    "$H_1$: variables are not independent (meaning they're related)\n",
    "\n",
    "The test statistic compares the observed frequencies with the expected ones, computed under the null hypothesis of independence, and follow a $\\chi^2$ (*chi-squared*) distribution\n"
   ]
  },
  {
   "cell_type": "code",
   "execution_count": 26,
   "id": "5738c15c-1a43-4161-b134-529d46159c14",
   "metadata": {},
   "outputs": [
    {
     "name": "stdout",
     "output_type": "stream",
     "text": [
      "0.011817173153497198\n"
     ]
    }
   ],
   "source": [
    "data = np.array([[84,102], [161, 119]])\n",
    "V, p, dof, expected = stats.chi2_contingency(data) \n",
    "print(p)"
   ]
  },
  {
   "cell_type": "markdown",
   "id": "f33e7546-fafe-42b3-85b1-47c28b535430",
   "metadata": {},
   "source": [
    "### Normality test\n",
    "Many analysis rely on the assumption of normality of the data. How can we test this assumption?  \n",
    "\n",
    "$H_0$: data are normally distributed  \n",
    "$H_1$: data are not normally distributed  \n",
    "\n",
    "There are mainly two types of tests for normality:\n",
    "1. \"best fit\": we fit a normal distribution (i.e. we compute mean and variance) on our data and ask ourself: is the expected distribution enough different from the fitted one to reject the hypothesis of normality?\n",
    "2. tests based on descriptive statistics: we compute additional statistics on the empirical data, like indices of asymmetry (_skewness_) and heavy tails (_kurtosis_) and test these indices against the ones expected under normality assumption\n",
    "\n",
    "The [Shapiro-Wilk](https://en.wikipedia.org/wiki/Shapiro%E2%80%93Wilk_test) test combines a skewness and kurtosis test to produce a single, global “omnibus” statistic"
   ]
  },
  {
   "cell_type": "code",
   "execution_count": 27,
   "id": "e0e85f32-dcd9-4f6e-974e-c6f7d904f1eb",
   "metadata": {},
   "outputs": [
    {
     "data": {
      "text/plain": [
       "ShapiroResult(statistic=0.9898834228515625, pvalue=0.6551706790924072)"
      ]
     },
     "execution_count": 27,
     "metadata": {},
     "output_type": "execute_result"
    }
   ],
   "source": [
    "np.random.seed(42)\n",
    "data = stats.norm.rvs(size=100, loc=0, scale=1)\n",
    "stats.shapiro(data)"
   ]
  },
  {
   "cell_type": "code",
   "execution_count": 28,
   "id": "e8db3b74-ec64-4a7e-97dc-bc20a05dfb72",
   "metadata": {},
   "outputs": [
    {
     "data": {
      "text/plain": [
       "ShapiroResult(statistic=0.8405630588531494, pvalue=5.396142643832036e-09)"
      ]
     },
     "execution_count": 28,
     "metadata": {},
     "output_type": "execute_result"
    }
   ],
   "source": [
    "data = stats.expon.rvs(size=100)\n",
    "stats.shapiro(data)"
   ]
  },
  {
   "cell_type": "markdown",
   "id": "317aabd2-78eb-453c-861d-4bde60ba4c24",
   "metadata": {},
   "source": [
    "## Data Drift"
   ]
  },
  {
   "cell_type": "markdown",
   "id": "3a0d9472-862e-4164-acc7-2288b05cdac8",
   "metadata": {},
   "source": [
    "## A/B Testing"
   ]
  }
 ],
 "metadata": {
  "kernelspec": {
   "display_name": "Python 3 (ipykernel)",
   "language": "python",
   "name": "python3"
  },
  "language_info": {
   "codemirror_mode": {
    "name": "ipython",
    "version": 3
   },
   "file_extension": ".py",
   "mimetype": "text/x-python",
   "name": "python",
   "nbconvert_exporter": "python",
   "pygments_lexer": "ipython3",
   "version": "3.9.7"
  }
 },
 "nbformat": 4,
 "nbformat_minor": 5
}
