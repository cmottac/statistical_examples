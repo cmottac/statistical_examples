{
 "cells": [
  {
   "cell_type": "markdown",
   "id": "27cc9dbb",
   "metadata": {},
   "source": [
    "<span style=\"color:blue\"></span>**Carlo**</span>\n",
    "\n",
    "here I solve some exercises from the textbook <br>\n",
    ">_Statistics for Business and Economics, 9th ed.<br>\n",
    "(Newbold, Carlson, Thorne)<br>\n",
    "Pearsons Ed._\n",
    "\n",
    "They may be included as student's exercises in the course notebooks."
   ]
  },
  {
   "cell_type": "markdown",
   "id": "274fbd0f",
   "metadata": {},
   "source": [
    "<font color='red'>test blue color font</font>\n"
   ]
  },
  {
   "cell_type": "code",
   "execution_count": 16,
   "id": "63b2ed24",
   "metadata": {},
   "outputs": [],
   "source": [
    "import pandas as pd\n",
    "import matplotlib.pyplot as plt\n",
    "import numpy as np\n",
    "from scipy import stats"
   ]
  },
  {
   "cell_type": "markdown",
   "id": "8b49f51a",
   "metadata": {},
   "source": [
    "# Testing the mean of a normal distribution"
   ]
  },
  {
   "cell_type": "markdown",
   "id": "f4f36bd0",
   "metadata": {},
   "source": [
    "<span style=\"color:blue\">_Example 9.4 page 367_</span>\n",
    "\n",
    "\n",
    "Grand Junction Vegetables is a producer of a wide variety of frozen vegetables. The company president has asked you to determine if the weekly sales of 16-ounce packages of frozen broccoli has increased. The mean weekly number of sales per store has been 2,400 packages over the past 6 months. You have obtained a random sample of sales data from 134 stores for your study. "
   ]
  },
  {
   "cell_type": "markdown",
   "id": "d29ce748",
   "metadata": {},
   "source": [
    "$H_0 : \\mu = 2400$ </br>\n",
    "$H_1 : \\mu > 2400$"
   ]
  },
  {
   "cell_type": "code",
   "execution_count": 13,
   "id": "096eddec",
   "metadata": {},
   "outputs": [],
   "source": [
    "df = pd.read_excel('../../data/Broccoli.xlsx')"
   ]
  },
  {
   "cell_type": "code",
   "execution_count": 14,
   "id": "4f7bc604",
   "metadata": {},
   "outputs": [
    {
     "data": {
      "text/html": [
       "<div>\n",
       "<style scoped>\n",
       "    .dataframe tbody tr th:only-of-type {\n",
       "        vertical-align: middle;\n",
       "    }\n",
       "\n",
       "    .dataframe tbody tr th {\n",
       "        vertical-align: top;\n",
       "    }\n",
       "\n",
       "    .dataframe thead th {\n",
       "        text-align: right;\n",
       "    }\n",
       "</style>\n",
       "<table border=\"1\" class=\"dataframe\">\n",
       "  <thead>\n",
       "    <tr style=\"text-align: right;\">\n",
       "      <th></th>\n",
       "      <th>Broccoli</th>\n",
       "      <th>Broccoli Price</th>\n",
       "      <th>Peas</th>\n",
       "      <th>Peas Price</th>\n",
       "    </tr>\n",
       "  </thead>\n",
       "  <tbody>\n",
       "    <tr>\n",
       "      <th>0</th>\n",
       "      <td>890</td>\n",
       "      <td>1.08</td>\n",
       "      <td>9557</td>\n",
       "      <td>0.79</td>\n",
       "    </tr>\n",
       "    <tr>\n",
       "      <th>1</th>\n",
       "      <td>17630</td>\n",
       "      <td>0.69</td>\n",
       "      <td>19452</td>\n",
       "      <td>0.68</td>\n",
       "    </tr>\n",
       "    <tr>\n",
       "      <th>2</th>\n",
       "      <td>6831</td>\n",
       "      <td>0.59</td>\n",
       "      <td>520</td>\n",
       "      <td>0.79</td>\n",
       "    </tr>\n",
       "    <tr>\n",
       "      <th>3</th>\n",
       "      <td>1248</td>\n",
       "      <td>0.70</td>\n",
       "      <td>460</td>\n",
       "      <td>0.79</td>\n",
       "    </tr>\n",
       "    <tr>\n",
       "      <th>4</th>\n",
       "      <td>413</td>\n",
       "      <td>0.78</td>\n",
       "      <td>586</td>\n",
       "      <td>0.79</td>\n",
       "    </tr>\n",
       "  </tbody>\n",
       "</table>\n",
       "</div>"
      ],
      "text/plain": [
       "   Broccoli  Broccoli Price   Peas  Peas Price\n",
       "0       890            1.08   9557        0.79\n",
       "1     17630            0.69  19452        0.68\n",
       "2      6831            0.59    520        0.79\n",
       "3      1248            0.70    460        0.79\n",
       "4       413            0.78    586        0.79"
      ]
     },
     "execution_count": 14,
     "metadata": {},
     "output_type": "execute_result"
    }
   ],
   "source": [
    "df.head()"
   ]
  },
  {
   "cell_type": "code",
   "execution_count": 15,
   "id": "9e89b94d",
   "metadata": {},
   "outputs": [
    {
     "data": {
      "text/plain": [
       "(134, 4)"
      ]
     },
     "execution_count": 15,
     "metadata": {},
     "output_type": "execute_result"
    }
   ],
   "source": [
    "df.shape"
   ]
  },
  {
   "cell_type": "code",
   "execution_count": 90,
   "id": "724bfd3f",
   "metadata": {},
   "outputs": [
    {
     "data": {
      "text/plain": [
       "3592.955223880597"
      ]
     },
     "execution_count": 90,
     "metadata": {},
     "output_type": "execute_result"
    }
   ],
   "source": [
    "df.Broccoli.mean()"
   ]
  },
  {
   "cell_type": "code",
   "execution_count": 17,
   "id": "14e92018",
   "metadata": {},
   "outputs": [
    {
     "data": {
      "text/plain": [
       "Ttest_1sampResult(statistic=2.807648686225266, pvalue=0.002871023369494222)"
      ]
     },
     "execution_count": 17,
     "metadata": {},
     "output_type": "execute_result"
    }
   ],
   "source": [
    "stats.ttest_1samp(df.Broccoli, \n",
    "                  popmean=2400,\n",
    "                  alternative='greater')"
   ]
  },
  {
   "cell_type": "markdown",
   "id": "c6dbb484",
   "metadata": {},
   "source": [
    "Based on this result, we reject the null hypothesis and conclude that mean sales have increased"
   ]
  },
  {
   "cell_type": "markdown",
   "id": "1409789a",
   "metadata": {},
   "source": [
    "# Testing the difference between two population means"
   ]
  },
  {
   "cell_type": "markdown",
   "id": "367afe2a",
   "metadata": {},
   "source": [
    "<span style=\"color:blue\">_Ex. 10.47 page 416_</span>\n"
   ]
  },
  {
   "cell_type": "markdown",
   "id": "fd154091",
   "metadata": {},
   "source": [
    "You are the product manager for brand 4 in a large\n",
    "food company. The company president has complained that a competing brand, called **brand 2, has higher average sales**. The data services group has stored the latest product sales (saleb2 and saleb4) and price data (apriceb2 and apriceb4) in a file named Storet described in Chapter 10 appendix.\n",
    "1. Based on a statistical hypothesis test, does the pres- ident have strong evidence to support her com- plaint? Show all statistical work and reasoning.\n",
    "2. After analyzing the data, you note that a large outlier of value 971 is contained in the sample for brand 2. Repeat part a with this extreme observa- tion removed. What do you now conclude about the president’s complaint?"
   ]
  },
  {
   "cell_type": "code",
   "execution_count": 19,
   "id": "113e7a1d",
   "metadata": {},
   "outputs": [],
   "source": [
    "df = pd.read_excel('../../data/Storet.xlsx')"
   ]
  },
  {
   "cell_type": "code",
   "execution_count": 20,
   "id": "20845d5c",
   "metadata": {},
   "outputs": [
    {
     "data": {
      "text/html": [
       "<div>\n",
       "<style scoped>\n",
       "    .dataframe tbody tr th:only-of-type {\n",
       "        vertical-align: middle;\n",
       "    }\n",
       "\n",
       "    .dataframe tbody tr th {\n",
       "        vertical-align: top;\n",
       "    }\n",
       "\n",
       "    .dataframe thead th {\n",
       "        text-align: right;\n",
       "    }\n",
       "</style>\n",
       "<table border=\"1\" class=\"dataframe\">\n",
       "  <thead>\n",
       "    <tr style=\"text-align: right;\">\n",
       "      <th></th>\n",
       "      <th>saleb2</th>\n",
       "      <th>saleb4</th>\n",
       "      <th>apriceb2</th>\n",
       "      <th>apriceb4</th>\n",
       "      <th>d_sales</th>\n",
       "    </tr>\n",
       "  </thead>\n",
       "  <tbody>\n",
       "    <tr>\n",
       "      <th>0</th>\n",
       "      <td>145</td>\n",
       "      <td>146</td>\n",
       "      <td>0.85</td>\n",
       "      <td>0.69</td>\n",
       "      <td>-1</td>\n",
       "    </tr>\n",
       "    <tr>\n",
       "      <th>1</th>\n",
       "      <td>126</td>\n",
       "      <td>117</td>\n",
       "      <td>0.85</td>\n",
       "      <td>0.69</td>\n",
       "      <td>9</td>\n",
       "    </tr>\n",
       "    <tr>\n",
       "      <th>2</th>\n",
       "      <td>150</td>\n",
       "      <td>239</td>\n",
       "      <td>0.85</td>\n",
       "      <td>0.59</td>\n",
       "      <td>-89</td>\n",
       "    </tr>\n",
       "    <tr>\n",
       "      <th>3</th>\n",
       "      <td>297</td>\n",
       "      <td>161</td>\n",
       "      <td>0.67</td>\n",
       "      <td>0.59</td>\n",
       "      <td>136</td>\n",
       "    </tr>\n",
       "    <tr>\n",
       "      <th>4</th>\n",
       "      <td>244</td>\n",
       "      <td>110</td>\n",
       "      <td>0.67</td>\n",
       "      <td>0.69</td>\n",
       "      <td>134</td>\n",
       "    </tr>\n",
       "  </tbody>\n",
       "</table>\n",
       "</div>"
      ],
      "text/plain": [
       "   saleb2  saleb4  apriceb2  apriceb4  d_sales\n",
       "0     145     146      0.85      0.69       -1\n",
       "1     126     117      0.85      0.69        9\n",
       "2     150     239      0.85      0.59      -89\n",
       "3     297     161      0.67      0.59      136\n",
       "4     244     110      0.67      0.69      134"
      ]
     },
     "execution_count": 20,
     "metadata": {},
     "output_type": "execute_result"
    }
   ],
   "source": [
    "cols=['saleb2','saleb4','apriceb2','apriceb4']\n",
    "# slicing the df selecting only the relevant columns\n",
    "df = df[cols] \n",
    "#df['profit_b2'] = df.saleb2 * df.apriceb2\n",
    "#df['profit_b4'] = df.saleb4 * df.apriceb4\n",
    "df['d_sales'] = df.saleb2 - df.saleb4\n",
    "df.head()"
   ]
  },
  {
   "cell_type": "code",
   "execution_count": 21,
   "id": "70771aa5",
   "metadata": {},
   "outputs": [
    {
     "data": {
      "text/plain": [
       "971"
      ]
     },
     "execution_count": 21,
     "metadata": {},
     "output_type": "execute_result"
    }
   ],
   "source": [
    "df.saleb2.max()"
   ]
  },
  {
   "cell_type": "code",
   "execution_count": 22,
   "id": "3078d16e",
   "metadata": {},
   "outputs": [
    {
     "data": {
      "image/png": "[encoded data removed]",
      "text/plain": [
       "<Figure size 432x288 with 1 Axes>"
      ]
     },
     "metadata": {
      "needs_background": "light"
     },
     "output_type": "display_data"
    }
   ],
   "source": [
    "df.saleb2.hist(alpha=.5, density=True, range=(0,1000), bins=20, label='B2')\n",
    "df.saleb4.hist(alpha=.5, density=True, range=(0,1000), bins=20, label='B4')\n",
    "plt.legend();"
   ]
  },
  {
   "cell_type": "code",
   "execution_count": 23,
   "id": "c0426fab",
   "metadata": {},
   "outputs": [
    {
     "data": {
      "image/png": "[encoded data removed]",
      "text/plain": [
       "<Figure size 432x288 with 1 Axes>"
      ]
     },
     "metadata": {
      "needs_background": "light"
     },
     "output_type": "display_data"
    }
   ],
   "source": [
    "df.d_sales.hist(bins=20)\n",
    "plt.xlabel('sales B2 - sales B4')\n",
    "plt.ylabel('frequency')\n",
    "plt.show()"
   ]
  },
  {
   "cell_type": "markdown",
   "id": "a14b224b",
   "metadata": {},
   "source": [
    "We carry out a hypotesis test to test for the null hypothesis that two related or repeated samples have identical average (expected) values.\n",
    "\n",
    "* $H_0$: average sales B2 = average sales of B4\n",
    "</br>$\\ \\ \\ \\ : \\mu_2 = \\mu_4$ </br>\n",
    "$\\ \\ \\ \\ : \\mu_2 -\\mu_4 = 0$ \n",
    "* $H_1$: average sales B2 > average sales of B4\n",
    "</br>$\\ \\ \\ \\ : \\mu_2 > \\mu_4$ </br>\n",
    "$\\ \\ \\ \\ : \\mu_2 -\\mu_4 > 0$"
   ]
  },
  {
   "cell_type": "code",
   "execution_count": 24,
   "id": "f435c65c",
   "metadata": {},
   "outputs": [
    {
     "data": {
      "text/plain": [
       "Ttest_relResult(statistic=1.7399195750869862, pvalue=0.04395255945267213)"
      ]
     },
     "execution_count": 24,
     "metadata": {},
     "output_type": "execute_result"
    }
   ],
   "source": [
    "# Calculating the t-test on TWO RELATED samples of scores, a and b.\n",
    "stats.ttest_rel(\n",
    "    df.saleb2, \n",
    "    df.saleb4, \n",
    "    alternative='greater'\n",
    ")\n",
    "# alternative='greater': the mean of the distribution underlying the first sample \n",
    "# is greater than the mean of the distribution underlying the second sample."
   ]
  },
  {
   "cell_type": "markdown",
   "id": "7f7c5e0e",
   "metadata": {},
   "source": [
    "A $p$-value less than $\\alpha$ (=0.05) indicates that we can reject the null hypotesis."
   ]
  },
  {
   "cell_type": "markdown",
   "id": "d08965fe",
   "metadata": {},
   "source": [
    "### Let's remove the outlier"
   ]
  },
  {
   "cell_type": "code",
   "execution_count": 25,
   "id": "92c687fd",
   "metadata": {},
   "outputs": [],
   "source": [
    "df_no_outliers = df[(df.saleb2<800) & (df.saleb4<800)]"
   ]
  },
  {
   "cell_type": "code",
   "execution_count": 26,
   "id": "cdf7ef2c",
   "metadata": {},
   "outputs": [
    {
     "data": {
      "text/plain": [
       "Ttest_relResult(statistic=1.4170595357244116, pvalue=0.08133335924688273)"
      ]
     },
     "execution_count": 26,
     "metadata": {},
     "output_type": "execute_result"
    }
   ],
   "source": [
    "stats.ttest_rel(\n",
    "    df_no_outliers.saleb2, \n",
    "    df_no_outliers.saleb4, \n",
    "    alternative='greater' )"
   ]
  },
  {
   "cell_type": "markdown",
   "id": "4fbc6be0",
   "metadata": {},
   "source": [
    "There is no sufficient evidence to reject the null hypotesis."
   ]
  },
  {
   "cell_type": "markdown",
   "id": "d420dbe2",
   "metadata": {},
   "source": [
    "# Testing the difference between proportions\n",
    "\n",
    "<span style=\"color:blue\">_Example 10.5 page 405_</span>\n",
    "\n",
    "Northern States Marketing Research has been asked to determine if an advertising campaign for a new cell phone increased customer recognition of the new World A phone. A random sample of 270 residents of a major city were asked if they knew about the World A phone before the advertising campaign. In this survey 50 respondents had heard of World A. After the advertising campaign, a second random sample of 203 residents were asked exactly the same question using the same protocol. In this case 81 respondents had heard of the World A phone. Do these results provide evidence that customer recognition increased after the advertising campaign?"
   ]
  },
  {
   "cell_type": "code",
   "execution_count": 68,
   "id": "d96f7782",
   "metadata": {},
   "outputs": [],
   "source": [
    "s1 = np.concatenate((np.ones(50), np.zeros(270-50)))\n",
    "np.random.shuffle(s1)\n",
    "s2 = np.concatenate((np.ones(81), np.zeros(203-81)))\n",
    "np.random.shuffle(s1)"
   ]
  },
  {
   "cell_type": "code",
   "execution_count": 69,
   "id": "23795824",
   "metadata": {},
   "outputs": [
    {
     "data": {
      "text/plain": [
       "(0.18518518518518517, 0.39901477832512317)"
      ]
     },
     "execution_count": 69,
     "metadata": {},
     "output_type": "execute_result"
    }
   ],
   "source": [
    "s1.mean(), s2.mean()"
   ]
  },
  {
   "cell_type": "markdown",
   "id": "f0900bd8",
   "metadata": {},
   "source": [
    "We are testing the difference between two (large) population proportions.\n",
    "\n",
    "We consider a standard model with a random sample of $n_x$ observations from a population with a proportion $P_x$ of successes and a second independent random sample of $n_y$ observations from a population with a proportion $P_y$ of successes.\n",
    "\n",
    "For large samples, proportions can be approximated as normally distributed random variables, and, as a result,\n",
    "\n",
    "$$ Z =\\frac\n",
    "{\n",
    "    (\\hat p_x - \\hat p_y)-(\\hat P_x - \\hat P_y)\n",
    "}\n",
    "{\n",
    "    \\sqrt{ \n",
    "        \\frac{\\hat P_x(1-\\hat P_x)}{n_x} + \\frac{\\hat P_y(1-\\hat P_y)}{n_y}\n",
    "    }\n",
    "}  $$\n",
    "\n",
    "or, more simply:\n",
    "$$ Z =\\frac\n",
    "{\n",
    "    (\\hat p_x - \\hat p_y)-(\\hat P_x - \\hat P_y)\n",
    "}\n",
    "{\n",
    "{\\rm standard\\ error}\n",
    "}  $$\n",
    "\n",
    "has a standard normal distribution.\n",
    "We want to test the hypothesis that the population proportions $P_x$ and $P_y$ are equal.\n",
    "\n",
    "$H_0: P_x - P_y = 0$ </br>\n",
    "$H_1: P_x > P_y$"
   ]
  },
  {
   "cell_type": "code",
   "execution_count": 71,
   "id": "70f39fd6",
   "metadata": {},
   "outputs": [
    {
     "data": {
      "text/plain": [
       "Ttest_indResult(statistic=-5.114320092079818, pvalue=2.516508212631412e-07)"
      ]
     },
     "execution_count": 71,
     "metadata": {},
     "output_type": "execute_result"
    }
   ],
   "source": [
    "stats.ttest_ind(s1, s2, axis=0, equal_var=False, alternative='less')"
   ]
  },
  {
   "cell_type": "code",
   "execution_count": 80,
   "id": "a063cfaf",
   "metadata": {},
   "outputs": [
    {
     "data": {
      "text/plain": [
       "Ttest_indResult(statistic=-5.114320092079818, pvalue=2.516508212631412e-07)"
      ]
     },
     "execution_count": 80,
     "metadata": {},
     "output_type": "execute_result"
    }
   ],
   "source": [
    "stats.ttest_ind(s1, s2, axis=0, equal_var=False, alternative='less',\n",
    "               permutations=0)"
   ]
  },
  {
   "cell_type": "code",
   "execution_count": null,
   "id": "c5479789",
   "metadata": {},
   "outputs": [],
   "source": []
  }
 ],
 "metadata": {
  "kernelspec": {
   "display_name": "Python 3 (ipykernel)",
   "language": "python",
   "name": "python3"
  },
  "language_info": {
   "codemirror_mode": {
    "name": "ipython",
    "version": 3
   },
   "file_extension": ".py",
   "mimetype": "text/x-python",
   "name": "python",
   "nbconvert_exporter": "python",
   "pygments_lexer": "ipython3",
   "version": "3.9.7"
  }
 },
 "nbformat": 4,
 "nbformat_minor": 5
}
