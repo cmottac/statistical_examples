{
  "nbformat": 4,
  "nbformat_minor": 0,
  "metadata": {
    "colab": {
      "provenance": []
    },
    "kernelspec": {
      "name": "python3",
      "display_name": "Python 3"
    },
    "language_info": {
      "name": "python"
    }
  },
  "cells": [
    {
      "cell_type": "code",
      "execution_count": null,
      "metadata": {
        "id": "eb9ex_8gkocf"
      },
      "outputs": [],
      "source": [
        "import numpy as np\n",
        "import matplotlib.pyplot as plt\n",
        "import pandas as pd\n",
        "from scipy import stats"
      ]
    },
    {
      "cell_type": "code",
      "source": [
        "effect_size = 0.2\n",
        "sample_size = 1000\n",
        "alpha=0.05\n",
        "true_dist = stats.norm(effect_size,1)\n",
        "sample = true_dist.rvs(sample_size)\n",
        "\n",
        "np.random.seed(8184)"
      ],
      "metadata": {
        "id": "37PkoF61kwLj"
      },
      "execution_count": null,
      "outputs": []
    },
    {
      "cell_type": "code",
      "source": [
        "stats.t.interval(alpha, sample, 0, 1)\n",
        "stats.t.interval(alpha=1-alpha, loc=np.mean(sample), df=len(sample)-1, scale=stats.sem(sample))"
      ],
      "metadata": {
        "colab": {
          "base_uri": "https://localhost:8080/"
        },
        "id": "Es69rHG3k5-J",
        "outputId": "b72e10e8-f0f7-4800-8f3a-407627d938aa"
      },
      "execution_count": null,
      "outputs": [
        {
          "output_type": "stream",
          "name": "stderr",
          "text": [
            "<ipython-input-58-c420852e6f4d>:2: DeprecationWarning: Use of keyword argument 'alpha' for method 'interval' is deprecated and wil be removed in SciPy 1.11.0. Use first positional argument or keyword argument 'confidence' instead.\n",
            "  stats.t.interval(alpha=1-alpha, loc=np.mean(sample), df=len(sample)-1, scale=stats.sem(sample))\n"
          ]
        },
        {
          "output_type": "execute_result",
          "data": {
            "text/plain": [
              "(0.15432949358784148, 0.2769916919989007)"
            ]
          },
          "metadata": {},
          "execution_count": 58
        }
      ]
    },
    {
      "cell_type": "code",
      "source": [
        "t_ = stats.t(df=sample_size).ppf(1-alpha/2)\n",
        "margin = t_*sample.std()/np.sqrt(sample_size)\n",
        "left_lim, right_lim = sample.mean()-margin, sample.mean()+margin\n",
        "left_lim, right_lim"
      ],
      "metadata": {
        "colab": {
          "base_uri": "https://localhost:8080/"
        },
        "id": "jGuzoZy0aOvu",
        "outputId": "33b9ae5d-dec1-4508-8510-333c38266bb5"
      },
      "execution_count": null,
      "outputs": [
        {
          "output_type": "execute_result",
          "data": {
            "text/plain": [
              "(0.15436024116467312, 0.2769609444220691)"
            ]
          },
          "metadata": {},
          "execution_count": 59
        }
      ]
    },
    {
      "cell_type": "code",
      "source": [
        "# Defining a bootstrapping function:\n",
        "def btstrp_func(data, n_iter, size=None):\n",
        "    # Initialising 3 empty arrays to keep track of statistics of interest:\n",
        "    stat_btstrp_arr = np.empty(n_iter)\n",
        "    # Setting the size of the bootstrapped sample:\n",
        "    if not size:\n",
        "        size = data.shape[0]\n",
        "    # Bootstrapping & calculating statistics of interest:\n",
        "    for i in range(n_iter):\n",
        "        stat_btstrp_arr[i] = np.random.choice(data, size=size, replace=True).mean()\n",
        "    # Returning the arrays:\n",
        "    return stat_btstrp_arr"
      ],
      "metadata": {
        "id": "YQCLFk9Xb1il"
      },
      "execution_count": null,
      "outputs": []
    },
    {
      "cell_type": "code",
      "source": [
        "stat_btstrp_arr = btstrp_func(sample, 1000)\n",
        "lower_ci, upper_ci = np.percentile(a=stat_btstrp_arr, q=[2.5, 97.5])#q=[alpha/2*100, (1-alpha/2)*100])\n",
        "lower_ci, upper_ci"
      ],
      "metadata": {
        "colab": {
          "base_uri": "https://localhost:8080/"
        },
        "id": "ytv7ApLEb1fW",
        "outputId": "ac4bf0f9-1184-4364-9607-1c372865b3c1"
      },
      "execution_count": null,
      "outputs": [
        {
          "output_type": "execute_result",
          "data": {
            "text/plain": [
              "(0.15160042022176637, 0.2778895589613414)"
            ]
          },
          "metadata": {},
          "execution_count": 61
        }
      ]
    },
    {
      "cell_type": "code",
      "source": [
        "bins = 50\n",
        "#plt.hist(sample,bins=bins, alpha=0.7, density=True, label='sample')\n",
        "plt.hist(stats.norm(loc=sample.mean(),\n",
        "         scale=sample.std()/np.sqrt(sample_size)).rvs(1000),\n",
        "         bins=bins, alpha=0.7, density=True,\n",
        "         label='theoretical sampling distribution of the mean')\n",
        "plt.hist(stat_btstrp_arr,bins=bins, alpha=0.7, density=True, label='btstrp')\n",
        "plt.legend()\n",
        "plt.show()"
      ],
      "metadata": {
        "colab": {
          "base_uri": "https://localhost:8080/",
          "height": 265
        },
        "id": "Ef_CgLgwb1cf",
        "outputId": "37c6fdd4-4092-4d78-cbe1-0aae9685ba03"
      },
      "execution_count": null,
      "outputs": [
        {
          "output_type": "display_data",
          "data": {
            "text/plain": [
              "<Figure size 432x288 with 1 Axes>"
            ],
            "image/png": "[encoded data removed]"
          },
          "metadata": {
            "needs_background": "light"
          }
        }
      ]
    },
    {
      "cell_type": "code",
      "source": [],
      "metadata": {
        "id": "zVP-Uq5lb1Zd"
      },
      "execution_count": null,
      "outputs": []
    },
    {
      "cell_type": "code",
      "source": [],
      "metadata": {
        "id": "znRMfdclb1Wf"
      },
      "execution_count": null,
      "outputs": []
    },
    {
      "cell_type": "code",
      "source": [],
      "metadata": {
        "id": "mAzZ1OLnb1TP"
      },
      "execution_count": null,
      "outputs": []
    },
    {
      "cell_type": "code",
      "source": [],
      "metadata": {
        "id": "zK8eC4v6b1PG"
      },
      "execution_count": null,
      "outputs": []
    },
    {
      "cell_type": "code",
      "source": [
        "from statsmodels.stats.weightstats import zconfint, _tconfint_generic\n",
        "\n",
        "print(zconfint(x1=sample, x2=None,\n",
        "         value=0, #In the one sample case, value is the mean of x1 under the Null hypothesis\n",
        "         alpha=alpha, alternative='two-sided', usevar='pooled', ddof=sample_size-1)\n",
        ")\n",
        "_tconfint_generic(mean=sample.mean(), std_mean=sample.std(),\n",
        "                  dof=sample_size-1, alpha=alpha, alternative='two-sided')"
      ],
      "metadata": {
        "colab": {
          "base_uri": "https://localhost:8080/"
        },
        "id": "7IIrBAIvl3cT",
        "outputId": "e610f235-6b9c-40af-9790-04ce6b85ffc8"
      },
      "execution_count": null,
      "outputs": [
        {
          "output_type": "stream",
          "name": "stdout",
          "text": [
            "(nan, nan)\n"
          ]
        },
        {
          "output_type": "stream",
          "name": "stderr",
          "text": [
            "/usr/local/lib/python3.8/dist-packages/statsmodels/stats/weightstats.py:1630: RuntimeWarning: invalid value encountered in sqrt\n",
            "  std_diff = np.sqrt(var_pooled)\n"
          ]
        },
        {
          "output_type": "execute_result",
          "data": {
            "text/plain": [
              "(-2.0033552348858836, 2.196054106967192)"
            ]
          },
          "metadata": {},
          "execution_count": 22
        }
      ]
    },
    {
      "cell_type": "code",
      "source": [],
      "metadata": {
        "id": "30a6yb-mZOdm"
      },
      "execution_count": null,
      "outputs": []
    }
  ]
}