{
 "cells": [
  {
   "cell_type": "markdown",
   "id": "6283e078",
   "metadata": {},
   "source": [
    "<span style=\"color:blue\"></span>**Carlo**</span>\n",
    "\n",
    "Here I include some exercises about ANOVA and Chi-Square, that may be included as student's exercises in the course notebooks."
   ]
  },
  {
   "cell_type": "code",
   "execution_count": 2,
   "id": "48a67119",
   "metadata": {},
   "outputs": [],
   "source": [
    "import numpy as np\n",
    "import matplotlib.pyplot as plt\n",
    "import scipy.stats as stats\n",
    "import pandas as pd\n",
    "import urllib\n",
    "from statsmodels.formula.api import ols\n",
    "from statsmodels.stats.anova import anova_lm\n",
    "import seaborn as sns"
   ]
  },
  {
   "cell_type": "markdown",
   "id": "c8f95528",
   "metadata": {},
   "source": [
    "## One-way ANOVA\n",
    "Twenty-two patients undergoing cardiac bypass surgery were randomized to one of three ventilation groups:*    \n",
    "  - *Group I*: Patients received 50% nitrous oxide and 50% oxygen mixture continuously for 24 h.\n",
    "  - *Group II*: Patients received a 50% nitrous oxide and 50% oxygen mixture only dirng the operation.\n",
    "  - *Group III*: Patients received no nitrous oxide but received 35-50% oxygen for 24 h.\n",
    "    \n",
    "The data show red cell folate levels (X) for the three groups after 24h' ventilation."
   ]
  },
  {
   "cell_type": "code",
   "execution_count": 18,
   "id": "fa210c20",
   "metadata": {},
   "outputs": [],
   "source": [
    "data = np.array([[243.0, 1],[251.0, 1],[275.0, 1],[291.0, 1],[347.0, 1],\n",
    "    [354.0, 1],[380.0, 1],[392.0, 1],[206.0, 2],[210.0, 2],[226.0, 2],\n",
    "    [249.0, 2],[255.0, 2],[273.0, 2],[285.0, 2],[295.0, 2],[309.0, 2],\n",
    "    [241.0, 3],[258.0, 3],[270.0, 3], [293.0, 3],[328.0, 3]])"
   ]
  },
  {
   "cell_type": "code",
   "execution_count": 30,
   "id": "d68c3352",
   "metadata": {},
   "outputs": [
    {
     "data": {
      "text/html": [
       "<div>\n",
       "<style scoped>\n",
       "    .dataframe tbody tr th:only-of-type {\n",
       "        vertical-align: middle;\n",
       "    }\n",
       "\n",
       "    .dataframe tbody tr th {\n",
       "        vertical-align: top;\n",
       "    }\n",
       "\n",
       "    .dataframe thead th {\n",
       "        text-align: right;\n",
       "    }\n",
       "</style>\n",
       "<table border=\"1\" class=\"dataframe\">\n",
       "  <thead>\n",
       "    <tr style=\"text-align: right;\">\n",
       "      <th></th>\n",
       "      <th>x</th>\n",
       "      <th>group</th>\n",
       "    </tr>\n",
       "  </thead>\n",
       "  <tbody>\n",
       "    <tr>\n",
       "      <th>0</th>\n",
       "      <td>243.0</td>\n",
       "      <td>1.0</td>\n",
       "    </tr>\n",
       "    <tr>\n",
       "      <th>1</th>\n",
       "      <td>251.0</td>\n",
       "      <td>1.0</td>\n",
       "    </tr>\n",
       "    <tr>\n",
       "      <th>2</th>\n",
       "      <td>275.0</td>\n",
       "      <td>1.0</td>\n",
       "    </tr>\n",
       "  </tbody>\n",
       "</table>\n",
       "</div>"
      ],
      "text/plain": [
       "       x  group\n",
       "0  243.0    1.0\n",
       "1  251.0    1.0\n",
       "2  275.0    1.0"
      ]
     },
     "execution_count": 30,
     "metadata": {},
     "output_type": "execute_result"
    }
   ],
   "source": [
    "data = pd.DataFrame(data, columns=['x','group'])\n",
    "data.head(3)"
   ]
  },
  {
   "cell_type": "code",
   "execution_count": 31,
   "id": "bdae7db7",
   "metadata": {},
   "outputs": [
    {
     "data": {
      "text/html": [
       "<div>\n",
       "<style scoped>\n",
       "    .dataframe tbody tr th:only-of-type {\n",
       "        vertical-align: middle;\n",
       "    }\n",
       "\n",
       "    .dataframe tbody tr th {\n",
       "        vertical-align: top;\n",
       "    }\n",
       "\n",
       "    .dataframe thead th {\n",
       "        text-align: right;\n",
       "    }\n",
       "</style>\n",
       "<table border=\"1\" class=\"dataframe\">\n",
       "  <thead>\n",
       "    <tr style=\"text-align: right;\">\n",
       "      <th></th>\n",
       "      <th>x</th>\n",
       "    </tr>\n",
       "    <tr>\n",
       "      <th>group</th>\n",
       "      <th></th>\n",
       "    </tr>\n",
       "  </thead>\n",
       "  <tbody>\n",
       "    <tr>\n",
       "      <th>1.0</th>\n",
       "      <td>8</td>\n",
       "    </tr>\n",
       "    <tr>\n",
       "      <th>2.0</th>\n",
       "      <td>9</td>\n",
       "    </tr>\n",
       "    <tr>\n",
       "      <th>3.0</th>\n",
       "      <td>5</td>\n",
       "    </tr>\n",
       "  </tbody>\n",
       "</table>\n",
       "</div>"
      ],
      "text/plain": [
       "       x\n",
       "group   \n",
       "1.0    8\n",
       "2.0    9\n",
       "3.0    5"
      ]
     },
     "execution_count": 31,
     "metadata": {},
     "output_type": "execute_result"
    }
   ],
   "source": [
    "data.groupby('group').count()"
   ]
  },
  {
   "cell_type": "code",
   "execution_count": 27,
   "id": "10f4e8f1",
   "metadata": {},
   "outputs": [],
   "source": [
    "# Sort them into groups, according to column 1\n",
    "group1 = data[data.group==1]\n",
    "group2 = data[data.group==2]\n",
    "group3 = data[data.group==3]"
   ]
  },
  {
   "cell_type": "code",
   "execution_count": 43,
   "id": "68db20e4",
   "metadata": {},
   "outputs": [
    {
     "data": {
      "image/png": "[encoded data removed]",
      "text/plain": [
       "<Figure size 432x288 with 1 Axes>"
      ]
     },
     "metadata": {
      "needs_background": "light"
     },
     "output_type": "display_data"
    }
   ],
   "source": [
    "plt.boxplot([group1.x, group2.x, group3.x])\n",
    "plt.xlabel('group')\n",
    "plt.ylabel('x')\n",
    "plt.show()"
   ]
  },
  {
   "cell_type": "markdown",
   "id": "16e52558",
   "metadata": {},
   "source": [
    "Performing one-way ANOVA.\n",
    "\n",
    "The one-way ANOVA tests the null hypothesis that two or more groups have the same population mean. The test is applied to samples from two or more groups, possibly with differing sizes."
   ]
  },
  {
   "cell_type": "code",
   "execution_count": 49,
   "id": "6e01b950",
   "metadata": {
    "scrolled": true
   },
   "outputs": [
    {
     "data": {
      "text/plain": [
       "0.043589334959178244"
      ]
     },
     "execution_count": 49,
     "metadata": {},
     "output_type": "execute_result"
    }
   ],
   "source": [
    "F_statistic, p = stats.f_oneway(group1.x, group2.x, group3.x)\n",
    "p"
   ]
  },
  {
   "cell_type": "markdown",
   "id": "fef4c462",
   "metadata": {},
   "source": [
    "The ANOVA test has important assumptions that must be satisfied in order for the associated p-value to be valid.\n",
    "\n",
    "1. The samples are independent.\n",
    "2. Each sample is from a normally distributed population.\n",
    "3. The population standard deviations of the groups are all equal. This property is known as homoscedasticity."
   ]
  },
  {
   "cell_type": "markdown",
   "id": "4fed6cf8",
   "metadata": {},
   "source": [
    "If these assumptions are not true for a given set of data, it may still be possible to use the Kruskal-Wallis H-testwhich tests the null hypothesis that the population median of all of the groups are equal. It is a non-parametric version of ANOVA."
   ]
  },
  {
   "cell_type": "code",
   "execution_count": 51,
   "id": "3743fb7d",
   "metadata": {},
   "outputs": [
    {
     "data": {
      "text/plain": [
       "0.12336326887166982"
      ]
     },
     "execution_count": 51,
     "metadata": {},
     "output_type": "execute_result"
    }
   ],
   "source": [
    "_, p = stats.kruskal(group1.x, group2.x, group3.x)\n",
    "p"
   ]
  },
  {
   "cell_type": "markdown",
   "id": "80c0f31d",
   "metadata": {},
   "source": [
    "# Two-way ANOVA"
   ]
  },
  {
   "cell_type": "code",
   "execution_count": 44,
   "id": "395596aa",
   "metadata": {},
   "outputs": [],
   "source": [
    "inFile = 'altman_12_6.txt'\n",
    "url_base = 'https://raw.githubusercontent.com/thomas-haslwanter/statsintro_python/master/ipynb/Data/data_altman/'\n",
    "url = url_base + inFile\n",
    "data = np.genfromtxt(urllib.request.urlopen(url), delimiter=',')\n",
    "\n",
    "# Bring them in dataframe-format\n",
    "df = pd.DataFrame(data, columns=['hs', 'fetus', 'observer'])"
   ]
  },
  {
   "cell_type": "code",
   "execution_count": 47,
   "id": "872ac4f7",
   "metadata": {},
   "outputs": [
    {
     "data": {
      "text/html": [
       "<div>\n",
       "<style scoped>\n",
       "    .dataframe tbody tr th:only-of-type {\n",
       "        vertical-align: middle;\n",
       "    }\n",
       "\n",
       "    .dataframe tbody tr th {\n",
       "        vertical-align: top;\n",
       "    }\n",
       "\n",
       "    .dataframe thead th {\n",
       "        text-align: right;\n",
       "    }\n",
       "</style>\n",
       "<table border=\"1\" class=\"dataframe\">\n",
       "  <thead>\n",
       "    <tr style=\"text-align: right;\">\n",
       "      <th></th>\n",
       "      <th>hs</th>\n",
       "      <th>fetus</th>\n",
       "      <th>observer</th>\n",
       "    </tr>\n",
       "  </thead>\n",
       "  <tbody>\n",
       "    <tr>\n",
       "      <th>0</th>\n",
       "      <td>14.3</td>\n",
       "      <td>1.0</td>\n",
       "      <td>1.0</td>\n",
       "    </tr>\n",
       "    <tr>\n",
       "      <th>1</th>\n",
       "      <td>14.0</td>\n",
       "      <td>1.0</td>\n",
       "      <td>1.0</td>\n",
       "    </tr>\n",
       "    <tr>\n",
       "      <th>2</th>\n",
       "      <td>14.8</td>\n",
       "      <td>1.0</td>\n",
       "      <td>1.0</td>\n",
       "    </tr>\n",
       "    <tr>\n",
       "      <th>3</th>\n",
       "      <td>13.6</td>\n",
       "      <td>1.0</td>\n",
       "      <td>2.0</td>\n",
       "    </tr>\n",
       "    <tr>\n",
       "      <th>4</th>\n",
       "      <td>13.6</td>\n",
       "      <td>1.0</td>\n",
       "      <td>2.0</td>\n",
       "    </tr>\n",
       "    <tr>\n",
       "      <th>5</th>\n",
       "      <td>13.8</td>\n",
       "      <td>1.0</td>\n",
       "      <td>2.0</td>\n",
       "    </tr>\n",
       "    <tr>\n",
       "      <th>6</th>\n",
       "      <td>13.9</td>\n",
       "      <td>1.0</td>\n",
       "      <td>3.0</td>\n",
       "    </tr>\n",
       "    <tr>\n",
       "      <th>7</th>\n",
       "      <td>13.7</td>\n",
       "      <td>1.0</td>\n",
       "      <td>3.0</td>\n",
       "    </tr>\n",
       "    <tr>\n",
       "      <th>8</th>\n",
       "      <td>13.8</td>\n",
       "      <td>1.0</td>\n",
       "      <td>3.0</td>\n",
       "    </tr>\n",
       "    <tr>\n",
       "      <th>9</th>\n",
       "      <td>13.8</td>\n",
       "      <td>1.0</td>\n",
       "      <td>4.0</td>\n",
       "    </tr>\n",
       "    <tr>\n",
       "      <th>10</th>\n",
       "      <td>14.7</td>\n",
       "      <td>1.0</td>\n",
       "      <td>4.0</td>\n",
       "    </tr>\n",
       "    <tr>\n",
       "      <th>11</th>\n",
       "      <td>13.9</td>\n",
       "      <td>1.0</td>\n",
       "      <td>4.0</td>\n",
       "    </tr>\n",
       "    <tr>\n",
       "      <th>12</th>\n",
       "      <td>19.7</td>\n",
       "      <td>2.0</td>\n",
       "      <td>1.0</td>\n",
       "    </tr>\n",
       "    <tr>\n",
       "      <th>13</th>\n",
       "      <td>19.9</td>\n",
       "      <td>2.0</td>\n",
       "      <td>1.0</td>\n",
       "    </tr>\n",
       "    <tr>\n",
       "      <th>14</th>\n",
       "      <td>19.8</td>\n",
       "      <td>2.0</td>\n",
       "      <td>1.0</td>\n",
       "    </tr>\n",
       "    <tr>\n",
       "      <th>15</th>\n",
       "      <td>19.8</td>\n",
       "      <td>2.0</td>\n",
       "      <td>2.0</td>\n",
       "    </tr>\n",
       "    <tr>\n",
       "      <th>16</th>\n",
       "      <td>19.3</td>\n",
       "      <td>2.0</td>\n",
       "      <td>2.0</td>\n",
       "    </tr>\n",
       "    <tr>\n",
       "      <th>17</th>\n",
       "      <td>19.8</td>\n",
       "      <td>2.0</td>\n",
       "      <td>2.0</td>\n",
       "    </tr>\n",
       "    <tr>\n",
       "      <th>18</th>\n",
       "      <td>19.5</td>\n",
       "      <td>2.0</td>\n",
       "      <td>3.0</td>\n",
       "    </tr>\n",
       "    <tr>\n",
       "      <th>19</th>\n",
       "      <td>19.8</td>\n",
       "      <td>2.0</td>\n",
       "      <td>3.0</td>\n",
       "    </tr>\n",
       "    <tr>\n",
       "      <th>20</th>\n",
       "      <td>19.5</td>\n",
       "      <td>2.0</td>\n",
       "      <td>3.0</td>\n",
       "    </tr>\n",
       "    <tr>\n",
       "      <th>21</th>\n",
       "      <td>19.8</td>\n",
       "      <td>2.0</td>\n",
       "      <td>4.0</td>\n",
       "    </tr>\n",
       "    <tr>\n",
       "      <th>22</th>\n",
       "      <td>19.6</td>\n",
       "      <td>2.0</td>\n",
       "      <td>4.0</td>\n",
       "    </tr>\n",
       "    <tr>\n",
       "      <th>23</th>\n",
       "      <td>19.8</td>\n",
       "      <td>2.0</td>\n",
       "      <td>4.0</td>\n",
       "    </tr>\n",
       "    <tr>\n",
       "      <th>24</th>\n",
       "      <td>13.0</td>\n",
       "      <td>3.0</td>\n",
       "      <td>1.0</td>\n",
       "    </tr>\n",
       "    <tr>\n",
       "      <th>25</th>\n",
       "      <td>12.6</td>\n",
       "      <td>3.0</td>\n",
       "      <td>1.0</td>\n",
       "    </tr>\n",
       "    <tr>\n",
       "      <th>26</th>\n",
       "      <td>12.9</td>\n",
       "      <td>3.0</td>\n",
       "      <td>1.0</td>\n",
       "    </tr>\n",
       "    <tr>\n",
       "      <th>27</th>\n",
       "      <td>12.4</td>\n",
       "      <td>3.0</td>\n",
       "      <td>2.0</td>\n",
       "    </tr>\n",
       "    <tr>\n",
       "      <th>28</th>\n",
       "      <td>12.8</td>\n",
       "      <td>3.0</td>\n",
       "      <td>2.0</td>\n",
       "    </tr>\n",
       "    <tr>\n",
       "      <th>29</th>\n",
       "      <td>12.5</td>\n",
       "      <td>3.0</td>\n",
       "      <td>2.0</td>\n",
       "    </tr>\n",
       "    <tr>\n",
       "      <th>30</th>\n",
       "      <td>12.8</td>\n",
       "      <td>3.0</td>\n",
       "      <td>3.0</td>\n",
       "    </tr>\n",
       "    <tr>\n",
       "      <th>31</th>\n",
       "      <td>12.7</td>\n",
       "      <td>3.0</td>\n",
       "      <td>3.0</td>\n",
       "    </tr>\n",
       "    <tr>\n",
       "      <th>32</th>\n",
       "      <td>12.5</td>\n",
       "      <td>3.0</td>\n",
       "      <td>3.0</td>\n",
       "    </tr>\n",
       "    <tr>\n",
       "      <th>33</th>\n",
       "      <td>13.0</td>\n",
       "      <td>3.0</td>\n",
       "      <td>4.0</td>\n",
       "    </tr>\n",
       "    <tr>\n",
       "      <th>34</th>\n",
       "      <td>12.9</td>\n",
       "      <td>3.0</td>\n",
       "      <td>4.0</td>\n",
       "    </tr>\n",
       "    <tr>\n",
       "      <th>35</th>\n",
       "      <td>13.8</td>\n",
       "      <td>3.0</td>\n",
       "      <td>4.0</td>\n",
       "    </tr>\n",
       "  </tbody>\n",
       "</table>\n",
       "</div>"
      ],
      "text/plain": [
       "      hs  fetus  observer\n",
       "0   14.3    1.0       1.0\n",
       "1   14.0    1.0       1.0\n",
       "2   14.8    1.0       1.0\n",
       "3   13.6    1.0       2.0\n",
       "4   13.6    1.0       2.0\n",
       "5   13.8    1.0       2.0\n",
       "6   13.9    1.0       3.0\n",
       "7   13.7    1.0       3.0\n",
       "8   13.8    1.0       3.0\n",
       "9   13.8    1.0       4.0\n",
       "10  14.7    1.0       4.0\n",
       "11  13.9    1.0       4.0\n",
       "12  19.7    2.0       1.0\n",
       "13  19.9    2.0       1.0\n",
       "14  19.8    2.0       1.0\n",
       "15  19.8    2.0       2.0\n",
       "16  19.3    2.0       2.0\n",
       "17  19.8    2.0       2.0\n",
       "18  19.5    2.0       3.0\n",
       "19  19.8    2.0       3.0\n",
       "20  19.5    2.0       3.0\n",
       "21  19.8    2.0       4.0\n",
       "22  19.6    2.0       4.0\n",
       "23  19.8    2.0       4.0\n",
       "24  13.0    3.0       1.0\n",
       "25  12.6    3.0       1.0\n",
       "26  12.9    3.0       1.0\n",
       "27  12.4    3.0       2.0\n",
       "28  12.8    3.0       2.0\n",
       "29  12.5    3.0       2.0\n",
       "30  12.8    3.0       3.0\n",
       "31  12.7    3.0       3.0\n",
       "32  12.5    3.0       3.0\n",
       "33  13.0    3.0       4.0\n",
       "34  12.9    3.0       4.0\n",
       "35  13.8    3.0       4.0"
      ]
     },
     "execution_count": 47,
     "metadata": {},
     "output_type": "execute_result"
    }
   ],
   "source": [
    "df"
   ]
  },
  {
   "cell_type": "code",
   "execution_count": 52,
   "id": "ed9c7d2c",
   "metadata": {},
   "outputs": [
    {
     "name": "stdout",
     "output_type": "stream",
     "text": [
      "                        df      sum_sq     mean_sq            F        PR(>F)\n",
      "C(fetus)               2.0  324.008889  162.004444  2113.101449  1.051039e-27\n",
      "C(observer)            3.0    1.198611    0.399537     5.211353  6.497055e-03\n",
      "C(fetus):C(observer)   6.0    0.562222    0.093704     1.222222  3.295509e-01\n",
      "Residual              24.0    1.840000    0.076667          NaN           NaN\n"
     ]
    }
   ],
   "source": [
    "formula = 'hs ~ C(fetus) + C(observer) + C(fetus):C(observer)'\n",
    "lm = ols(formula, df).fit()\n",
    "print(anova_lm(lm))"
   ]
  },
  {
   "cell_type": "markdown",
   "id": "d6437c9e",
   "metadata": {},
   "source": [
    "# chi squared"
   ]
  },
  {
   "cell_type": "markdown",
   "id": "9580548c",
   "metadata": {},
   "source": [
    "When considering categorical variables that may be interdependent. A chi-square test for independence might be used to assess the association between categorical variables.\n",
    "\n",
    "Assume there are two variables: gender and degree course and need to check whether gender depends on the course or course depends on gender. Then, using the chi-square formula of observed and predicted values, compare the frequency with which male and female employees choose from the available courses.\n",
    "\n",
    "If there is no relationship between gender and course, implying that they are independent of one another, then the actual frequencies at which both genders choose each offered course should be expected to be approximately equal. The ratio of the gender of students in any selected degree should be approximately equal to the ratio of the gender in the sample.\n",
    "\n"
   ]
  },
  {
   "cell_type": "code",
   "execution_count": 54,
   "id": "91344313",
   "metadata": {},
   "outputs": [],
   "source": [
    "df = pd.read_csv('https://raw.githubusercontent.com/ahmedbesbes/mlflow/main/data/aug_test.csv')"
   ]
  },
  {
   "cell_type": "code",
   "execution_count": 57,
   "id": "3d3114a4",
   "metadata": {},
   "outputs": [
    {
     "data": {
      "text/plain": [
       "(2129, 13)"
      ]
     },
     "execution_count": 57,
     "metadata": {},
     "output_type": "execute_result"
    }
   ],
   "source": [
    "df.shape"
   ]
  },
  {
   "cell_type": "code",
   "execution_count": 62,
   "id": "f3f46e26",
   "metadata": {},
   "outputs": [
    {
     "data": {
      "text/html": [
       "<div>\n",
       "<style scoped>\n",
       "    .dataframe tbody tr th:only-of-type {\n",
       "        vertical-align: middle;\n",
       "    }\n",
       "\n",
       "    .dataframe tbody tr th {\n",
       "        vertical-align: top;\n",
       "    }\n",
       "\n",
       "    .dataframe thead th {\n",
       "        text-align: right;\n",
       "    }\n",
       "</style>\n",
       "<table border=\"1\" class=\"dataframe\">\n",
       "  <thead>\n",
       "    <tr style=\"text-align: right;\">\n",
       "      <th>major_discipline</th>\n",
       "      <th>Arts</th>\n",
       "      <th>Business Degree</th>\n",
       "      <th>Humanities</th>\n",
       "      <th>No Major</th>\n",
       "      <th>Other</th>\n",
       "      <th>STEM</th>\n",
       "    </tr>\n",
       "    <tr>\n",
       "      <th>education_level</th>\n",
       "      <th></th>\n",
       "      <th></th>\n",
       "      <th></th>\n",
       "      <th></th>\n",
       "      <th></th>\n",
       "      <th></th>\n",
       "    </tr>\n",
       "  </thead>\n",
       "  <tbody>\n",
       "    <tr>\n",
       "      <th>Graduate</th>\n",
       "      <td>15</td>\n",
       "      <td>23</td>\n",
       "      <td>52</td>\n",
       "      <td>20</td>\n",
       "      <td>34</td>\n",
       "      <td>1124</td>\n",
       "    </tr>\n",
       "    <tr>\n",
       "      <th>Masters</th>\n",
       "      <td>1</td>\n",
       "      <td>12</td>\n",
       "      <td>23</td>\n",
       "      <td>2</td>\n",
       "      <td>6</td>\n",
       "      <td>451</td>\n",
       "    </tr>\n",
       "    <tr>\n",
       "      <th>Phd</th>\n",
       "      <td>1</td>\n",
       "      <td>2</td>\n",
       "      <td>5</td>\n",
       "      <td>0</td>\n",
       "      <td>0</td>\n",
       "      <td>46</td>\n",
       "    </tr>\n",
       "  </tbody>\n",
       "</table>\n",
       "</div>"
      ],
      "text/plain": [
       "major_discipline  Arts  Business Degree  Humanities  No Major  Other  STEM\n",
       "education_level                                                           \n",
       "Graduate            15               23          52        20     34  1124\n",
       "Masters              1               12          23         2      6   451\n",
       "Phd                  1                2           5         0      0    46"
      ]
     },
     "execution_count": 62,
     "metadata": {},
     "output_type": "execute_result"
    }
   ],
   "source": [
    "ct_table_ind=pd.crosstab(df[\"education_level\"],df[\"major_discipline\"])\n",
    "ct_table_ind"
   ]
  },
  {
   "cell_type": "markdown",
   "id": "e41ca077",
   "metadata": {},
   "source": [
    "Checking the dependency between the education level of employees and their graduation degree.  So the contingency table is made for them and it looks like the above image.\n",
    "\n",
    "Now this table is an input in the chi-square function offered by spicy. This function will calculate the test statistics value, p-value, degrees of freedom and expected values.\n",
    "\n"
   ]
  },
  {
   "cell_type": "code",
   "execution_count": 68,
   "id": "a382f562",
   "metadata": {},
   "outputs": [
    {
     "name": "stdout",
     "output_type": "stream",
     "text": [
      "chi2 statistic:     18.576\n",
      "p-value:            0.045994\n",
      "degrees of freedom: 10\n"
     ]
    }
   ],
   "source": [
    "chi2_stat, p, dof, expected = stats.chi2_contingency(ct_table_ind)\n",
    " \n",
    "print(f\"chi2 statistic:     {chi2_stat:.5g}\")\n",
    "print(f\"p-value:            {p:.5g}\")\n",
    "print(f\"degrees of freedom: {dof}\")"
   ]
  },
  {
   "cell_type": "markdown",
   "id": "c9351ee1",
   "metadata": {},
   "source": [
    "The critical value for the chi-square test with a degree of freedom of 10 and alpha 0.05 is 18.307. Since the test statistic (18.576) exceeds the critical value the null hypothesis is rejected. Therefore, the education level and the graduation degree are dependent on each other."
   ]
  },
  {
   "cell_type": "code",
   "execution_count": 69,
   "id": "69c3cace",
   "metadata": {},
   "outputs": [
    {
     "name": "stdout",
     "output_type": "stream",
     "text": [
      "expected frequencies:\n"
     ]
    },
    {
     "data": {
      "text/html": [
       "<div>\n",
       "<style scoped>\n",
       "    .dataframe tbody tr th:only-of-type {\n",
       "        vertical-align: middle;\n",
       "    }\n",
       "\n",
       "    .dataframe tbody tr th {\n",
       "        vertical-align: top;\n",
       "    }\n",
       "\n",
       "    .dataframe thead th {\n",
       "        text-align: right;\n",
       "    }\n",
       "</style>\n",
       "<table border=\"1\" class=\"dataframe\">\n",
       "  <thead>\n",
       "    <tr style=\"text-align: right;\">\n",
       "      <th>major_discipline</th>\n",
       "      <th>Arts</th>\n",
       "      <th>Business Degree</th>\n",
       "      <th>Humanities</th>\n",
       "      <th>No Major</th>\n",
       "      <th>Other</th>\n",
       "      <th>STEM</th>\n",
       "    </tr>\n",
       "    <tr>\n",
       "      <th>education_level</th>\n",
       "      <th></th>\n",
       "      <th></th>\n",
       "      <th></th>\n",
       "      <th></th>\n",
       "      <th></th>\n",
       "      <th></th>\n",
       "    </tr>\n",
       "  </thead>\n",
       "  <tbody>\n",
       "    <tr>\n",
       "      <th>Graduate</th>\n",
       "      <td>11.863511</td>\n",
       "      <td>25.820583</td>\n",
       "      <td>55.828288</td>\n",
       "      <td>15.352779</td>\n",
       "      <td>27.914144</td>\n",
       "      <td>1131.220693</td>\n",
       "    </tr>\n",
       "    <tr>\n",
       "      <th>Masters</th>\n",
       "      <td>4.631260</td>\n",
       "      <td>10.079802</td>\n",
       "      <td>21.794166</td>\n",
       "      <td>5.993396</td>\n",
       "      <td>10.897083</td>\n",
       "      <td>441.604293</td>\n",
       "    </tr>\n",
       "    <tr>\n",
       "      <th>Phd</th>\n",
       "      <td>0.505228</td>\n",
       "      <td>1.099615</td>\n",
       "      <td>2.377545</td>\n",
       "      <td>0.653825</td>\n",
       "      <td>1.188773</td>\n",
       "      <td>48.175014</td>\n",
       "    </tr>\n",
       "  </tbody>\n",
       "</table>\n",
       "</div>"
      ],
      "text/plain": [
       "major_discipline       Arts  Business Degree  Humanities   No Major  \\\n",
       "education_level                                                       \n",
       "Graduate          11.863511        25.820583   55.828288  15.352779   \n",
       "Masters            4.631260        10.079802   21.794166   5.993396   \n",
       "Phd                0.505228         1.099615    2.377545   0.653825   \n",
       "\n",
       "major_discipline      Other         STEM  \n",
       "education_level                           \n",
       "Graduate          27.914144  1131.220693  \n",
       "Masters           10.897083   441.604293  \n",
       "Phd                1.188773    48.175014  "
      ]
     },
     "execution_count": 69,
     "metadata": {},
     "output_type": "execute_result"
    }
   ],
   "source": [
    "print(\"expected frequencies:\")\n",
    "pd.DataFrame(expected,columns=ct_table_ind.columns, index=ct_table_ind.index)"
   ]
  },
  {
   "cell_type": "code",
   "execution_count": null,
   "id": "ef097eac",
   "metadata": {},
   "outputs": [],
   "source": []
  },
  {
   "cell_type": "code",
   "execution_count": 74,
   "id": "31fc51c8",
   "metadata": {},
   "outputs": [
    {
     "data": {
      "text/html": [
       "<div>\n",
       "<style scoped>\n",
       "    .dataframe tbody tr th:only-of-type {\n",
       "        vertical-align: middle;\n",
       "    }\n",
       "\n",
       "    .dataframe tbody tr th {\n",
       "        vertical-align: top;\n",
       "    }\n",
       "\n",
       "    .dataframe thead th {\n",
       "        text-align: right;\n",
       "    }\n",
       "</style>\n",
       "<table border=\"1\" class=\"dataframe\">\n",
       "  <thead>\n",
       "    <tr style=\"text-align: right;\">\n",
       "      <th></th>\n",
       "      <th>Perfect</th>\n",
       "      <th>Satisfactory</th>\n",
       "      <th>Defective</th>\n",
       "    </tr>\n",
       "  </thead>\n",
       "  <tbody>\n",
       "    <tr>\n",
       "      <th>shift1</th>\n",
       "      <td>106</td>\n",
       "      <td>24</td>\n",
       "      <td>1</td>\n",
       "    </tr>\n",
       "    <tr>\n",
       "      <th>shift2</th>\n",
       "      <td>67</td>\n",
       "      <td>85</td>\n",
       "      <td>1</td>\n",
       "    </tr>\n",
       "    <tr>\n",
       "      <th>shift3</th>\n",
       "      <td>37</td>\n",
       "      <td>72</td>\n",
       "      <td>3</td>\n",
       "    </tr>\n",
       "  </tbody>\n",
       "</table>\n",
       "</div>"
      ],
      "text/plain": [
       "        Perfect  Satisfactory  Defective\n",
       "shift1      106            24          1\n",
       "shift2       67            85          1\n",
       "shift3       37            72          3"
      ]
     },
     "execution_count": 74,
     "metadata": {},
     "output_type": "execute_result"
    }
   ],
   "source": [
    "ct = pd.DataFrame([[106,24,1],[67,85,1],[37,72,3]],\n",
    "    index=['shift1','shift2','shift3'],\n",
    "    columns=['Perfect','Satisfactory','Defective'])\n",
    "ct"
   ]
  },
  {
   "cell_type": "code",
   "execution_count": 75,
   "id": "75b8aec5",
   "metadata": {},
   "outputs": [
    {
     "data": {
      "text/plain": [
       "(65.80293762775237,\n",
       " 1.7429790314862357e-13,\n",
       " 4,\n",
       " array([[69.46969697, 59.87626263,  1.6540404 ],\n",
       "        [81.13636364, 69.93181818,  1.93181818],\n",
       "        [59.39393939, 51.19191919,  1.41414141]]))"
      ]
     },
     "execution_count": 75,
     "metadata": {},
     "output_type": "execute_result"
    }
   ],
   "source": [
    "stats.chi2_contingency(ct)"
   ]
  },
  {
   "cell_type": "markdown",
   "id": "54b69d50",
   "metadata": {},
   "source": [
    "## Comparing expected and observed frequencies \n",
    "An example with dice throws"
   ]
  },
  {
   "cell_type": "code",
   "execution_count": 145,
   "id": "fdc7916e",
   "metadata": {},
   "outputs": [
    {
     "name": "stdout",
     "output_type": "stream",
     "text": [
      "8.1 0.15080986287012518\n"
     ]
    }
   ],
   "source": [
    "# A dice is thrown 120 times\n",
    "chi_2_statistic, p_value = stats.chisquare(\n",
    "    f_obs=[15,29,14,18,20,24],f_exp=[20,20,20,20,20,20]\n",
    ")\n",
    "print(chi_2_statistic, p_value)"
   ]
  },
  {
   "cell_type": "markdown",
   "id": "fa045f37",
   "metadata": {},
   "source": [
    "Let's evaluate $X^2$, a reasonable metric of the total discrepacy between the observed data and the model, i.e. the expected data:"
   ]
  },
  {
   "cell_type": "markdown",
   "id": "2b419400",
   "metadata": {},
   "source": [
    "$$\\begin{aligned}\n",
    "& \\text {Comparing observed and expected frequencies for the dice experiment }\\\\\n",
    "&\\begin{array}{ccccc}\n",
    "\\hline \\hline \\text { Score } &  O_i  &  E_i & (O_i-E_i) & (O_i-E_i)^2/E_i \\\\\n",
    "\\hline \n",
    "1 &15 &20 &-5 &1.25 \\\\\n",
    "2 &29 &20 &9 &4.05 \\\\\n",
    "3 &14 &20 &-6 &1.8 \\\\\n",
    "4 &18 &20 &-2 &0.2 \\\\\n",
    "5 &20 &20 &0 & 0\\\\\n",
    "6 &24 &20 &4 &0.8 \\\\\n",
    "\\hline\n",
    "\\text{Total}& 120&120&0& X^2=8.1\\\\\n",
    "\\hline\n",
    "\\end{array}\n",
    "\\end{aligned}$$\n",
    "\n",
    "$X^2$ gives a measure of the **goodness of fit** of the model, that is how well the theoretical and observed frequencies agree. For perfect agreement it takes the value of zero. The larger the discrepacy, the larger $X^2$. \n",
    "\n",
    "If you repeated the experiment, you would obtain a new set of $O_i$, thus a new $X^2$. In other words, $X^2$ itself **is a random variable**. In order to determine whether a value of 8.1 indicates a significant difference between the model and the data, we need to study the probability distribution of the r.v. $X^2$.\n",
    "\n",
    "It can be shown that $X^2$ is approximately distributed according to a new family of distributions, namely the **chi-squared $\\chi^2$** family of distributions."
   ]
  },
  {
   "cell_type": "code",
   "execution_count": 153,
   "id": "41fd5a5f",
   "metadata": {},
   "outputs": [],
   "source": [
    "values = [1, 2, 3, 4, 5, 6]\n",
    "\n",
    "sample_size = 120\n",
    "n_samples = 10000\n",
    "chi_sq_list = []\n",
    "for i_sample in range(n_samples):\n",
    "    sample = np.random.choice(values, size=sample_size)\n",
    "    _val, _counts = np.unique(sample, return_counts=True)\n",
    "\n",
    "    obs_freq_dict = {_val[i]:_counts[i] for i in range(len(values))}\n",
    "    exp_freq = np.ones(6)*sample_size/6\n",
    "\n",
    "    obs_freq=[]\n",
    "    for i in values:\n",
    "        obs_freq.append(obs_freq_dict[i])\n",
    "    obs_freq=np.array(obs_freq)    \n",
    "\n",
    "    chi_sq = (np.square(obs_freq-exp_freq)/exp_freq).sum()\n",
    "    chi_sq_list.append(chi_sq)"
   ]
  },
  {
   "cell_type": "markdown",
   "id": "ee4640bf",
   "metadata": {},
   "source": [
    "The X statistic is distributed according to the $\\chi^2_\\nu$ statistic.\n",
    "The number $\\nu$ of degrees of freedom is equal to the number of classes (6) minus the number of constraints (1 in this case, that is the sum of the frequencies is equal to `sample_size`). "
   ]
  },
  {
   "cell_type": "code",
   "execution_count": 154,
   "id": "086f31f3",
   "metadata": {},
   "outputs": [
    {
     "data": {
      "image/png": "[encoded data removed]",
      "text/plain": [
       "<Figure size 432x288 with 1 Axes>"
      ]
     },
     "metadata": {
      "needs_background": "light"
     },
     "output_type": "display_data"
    }
   ],
   "source": [
    "x_values = np.linspace(0,30,200)\n",
    "plt.hist(chi_sq_list, bins=40, density=True)\n",
    "plt.plot(x_values, stats.chi2(df=5).pdf(x_values))\n",
    "plt.show()"
   ]
  },
  {
   "cell_type": "code",
   "execution_count": 155,
   "id": "b628b88e",
   "metadata": {},
   "outputs": [
    {
     "name": "stdout",
     "output_type": "stream",
     "text": [
      "simulation p_value = 0.1508, calculated p_value=0.15080986287012518 \n"
     ]
    }
   ],
   "source": [
    "simulation_p_value = (chi_sq_list>chi_2_statistic).sum()/len(chi_sq_list) \n",
    "print(f'simulation p_value = {simulation_p_value}, calculated p_value={p_value} ')"
   ]
  },
  {
   "cell_type": "code",
   "execution_count": null,
   "id": "f347a8ed",
   "metadata": {},
   "outputs": [],
   "source": []
  }
 ],
 "metadata": {
  "kernelspec": {
   "display_name": "Python 3 (ipykernel)",
   "language": "python",
   "name": "python3"
  },
  "language_info": {
   "codemirror_mode": {
    "name": "ipython",
    "version": 3
   },
   "file_extension": ".py",
   "mimetype": "text/x-python",
   "name": "python",
   "nbconvert_exporter": "python",
   "pygments_lexer": "ipython3",
   "version": "3.9.7"
  }
 },
 "nbformat": 4,
 "nbformat_minor": 5
}
